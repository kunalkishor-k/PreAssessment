{
 "cells": [
  {
   "cell_type": "code",
   "execution_count": 2,
   "id": "25697e81-5db3-4f2b-bf60-4fbbce77706e",
   "metadata": {},
   "outputs": [],
   "source": [
    "import pandas as pd\n",
    "import random\n",
    "import datetime"
   ]
  },
  {
   "cell_type": "code",
   "execution_count": 3,
   "id": "dc32cf51-f462-4013-a9fe-87ab537d7d86",
   "metadata": {},
   "outputs": [],
   "source": [
    "# Generate a sample dataset\n",
    "random.seed(42)\n",
    "num_rows = 1000"
   ]
  },
  {
   "cell_type": "code",
   "execution_count": 4,
   "id": "aa897bb0-a3c9-4b7a-9076-fd7bb3bc9ea7",
   "metadata": {},
   "outputs": [],
   "source": [
    "# Generate random data for the dataset\n",
    "ids = list(range(1, num_rows + 1))\n",
    "customer_ids = [random.randint(1, 100) for _ in range(num_rows)]\n",
    "timestamps = [datetime.datetime(2023, 1, 1) + datetime.timedelta(days=random.randint(0, 365)) for _ in range(num_rows)]\n",
    "product_categories = [random.choice(['Electronics', 'Clothing', 'Groceries', 'Books', 'Furniture']) for _ in range(num_rows)]"
   ]
  },
  {
   "cell_type": "code",
   "execution_count": 5,
   "id": "c783670c-91b0-4e8e-afea-351e82a966ed",
   "metadata": {},
   "outputs": [],
   "source": [
    "# Introduce anomalies in the Amount column\n",
    "amounts = [random.uniform(10, 500) for _ in range(num_rows)]\n",
    "for i in range(10):  # Introduce 10 anomalies with excessively high amounts\n",
    "    idx = random.randint(0, num_rows - 1)\n",
    "    amounts[idx] = random.uniform(1000, 5000)"
   ]
  },
  {
   "cell_type": "code",
   "execution_count": 6,
   "id": "e0866f6a-91a5-4e04-bdfe-7d6f832216f7",
   "metadata": {},
   "outputs": [],
   "source": [
    "# Add anomalous customer behavior (frequent purchases)\n",
    "anomalous_customer = random.choice(customer_ids)\n",
    "for i in range(20):  # Introduce 20 rows for the same customer within a short time frame\n",
    "    ids.append(num_rows + i + 1)\n",
    "    customer_ids.append(anomalous_customer)\n",
    "    timestamps.append(timestamps[random.randint(0, num_rows - 1)] + datetime.timedelta(hours=random.randint(0, 2)))\n",
    "    product_categories.append(random.choice(['Electronics', 'Clothing', 'Groceries']))\n",
    "    amounts.append(random.uniform(10, 50))  # Small amounts for frequent purchases"
   ]
  },
  {
   "cell_type": "code",
   "execution_count": 10,
   "id": "3abd36b5-f271-4286-96ba-d6c3b47b8108",
   "metadata": {},
   "outputs": [],
   "source": [
    "# Create the DataFrame\n",
    "data = {\n",
    "    \"Id\": ids,\n",
    "    \"CustomerId\": customer_ids,\n",
    "    \"Timestamp\": timestamps,\n",
    "    \"ProductCategory\": product_categories,\n",
    "    \"Amount\": amounts\n",
    "}\n",
    "df = pd.DataFrame(data)"
   ]
  },
  {
   "cell_type": "code",
   "execution_count": 15,
   "id": "a2b1ddc5-01d3-447f-a16e-1d4536d8b39b",
   "metadata": {},
   "outputs": [
    {
     "data": {
      "text/html": [
       "<div>\n",
       "<style scoped>\n",
       "    .dataframe tbody tr th:only-of-type {\n",
       "        vertical-align: middle;\n",
       "    }\n",
       "\n",
       "    .dataframe tbody tr th {\n",
       "        vertical-align: top;\n",
       "    }\n",
       "\n",
       "    .dataframe thead th {\n",
       "        text-align: right;\n",
       "    }\n",
       "</style>\n",
       "<table border=\"1\" class=\"dataframe\">\n",
       "  <thead>\n",
       "    <tr style=\"text-align: right;\">\n",
       "      <th></th>\n",
       "      <th>Id</th>\n",
       "      <th>CustomerId</th>\n",
       "      <th>Timestamp</th>\n",
       "      <th>ProductCategory</th>\n",
       "      <th>Amount</th>\n",
       "    </tr>\n",
       "  </thead>\n",
       "  <tbody>\n",
       "    <tr>\n",
       "      <th>0</th>\n",
       "      <td>1</td>\n",
       "      <td>82</td>\n",
       "      <td>2023-04-02</td>\n",
       "      <td>Clothing</td>\n",
       "      <td>363.874434</td>\n",
       "    </tr>\n",
       "    <tr>\n",
       "      <th>1</th>\n",
       "      <td>2</td>\n",
       "      <td>15</td>\n",
       "      <td>2023-06-04</td>\n",
       "      <td>Furniture</td>\n",
       "      <td>272.511670</td>\n",
       "    </tr>\n",
       "    <tr>\n",
       "      <th>2</th>\n",
       "      <td>3</td>\n",
       "      <td>4</td>\n",
       "      <td>2023-01-08</td>\n",
       "      <td>Books</td>\n",
       "      <td>150.477383</td>\n",
       "    </tr>\n",
       "    <tr>\n",
       "      <th>3</th>\n",
       "      <td>4</td>\n",
       "      <td>95</td>\n",
       "      <td>2023-12-29</td>\n",
       "      <td>Clothing</td>\n",
       "      <td>256.085856</td>\n",
       "    </tr>\n",
       "    <tr>\n",
       "      <th>4</th>\n",
       "      <td>5</td>\n",
       "      <td>36</td>\n",
       "      <td>2023-10-01</td>\n",
       "      <td>Clothing</td>\n",
       "      <td>351.950947</td>\n",
       "    </tr>\n",
       "  </tbody>\n",
       "</table>\n",
       "</div>"
      ],
      "text/plain": [
       "   Id  CustomerId  Timestamp ProductCategory      Amount\n",
       "0   1          82 2023-04-02        Clothing  363.874434\n",
       "1   2          15 2023-06-04       Furniture  272.511670\n",
       "2   3           4 2023-01-08           Books  150.477383\n",
       "3   4          95 2023-12-29        Clothing  256.085856\n",
       "4   5          36 2023-10-01        Clothing  351.950947"
      ]
     },
     "execution_count": 15,
     "metadata": {},
     "output_type": "execute_result"
    }
   ],
   "source": [
    "df.head()"
   ]
  },
  {
   "cell_type": "code",
   "execution_count": 16,
   "id": "a6f6670e-7e5b-4eee-8dfd-c284ef7a5f14",
   "metadata": {},
   "outputs": [],
   "source": [
    "# Update timestamps to include hours, minutes, and seconds\n",
    "timestamps_with_time = [ts + datetime.timedelta(\n",
    "    hours=random.randint(0, 23),\n",
    "    minutes=random.randint(0, 59),\n",
    "    seconds=random.randint(0, 59)\n",
    ") for ts in timestamps]\n",
    "\n",
    "# Replace the existing timestamps with the updated ones\n",
    "df[\"Timestamp\"] = timestamps_with_time"
   ]
  },
  {
   "cell_type": "code",
   "execution_count": 17,
   "id": "7181156a-ebff-47f8-84e3-64036d6fa68b",
   "metadata": {},
   "outputs": [
    {
     "data": {
      "text/html": [
       "<div>\n",
       "<style scoped>\n",
       "    .dataframe tbody tr th:only-of-type {\n",
       "        vertical-align: middle;\n",
       "    }\n",
       "\n",
       "    .dataframe tbody tr th {\n",
       "        vertical-align: top;\n",
       "    }\n",
       "\n",
       "    .dataframe thead th {\n",
       "        text-align: right;\n",
       "    }\n",
       "</style>\n",
       "<table border=\"1\" class=\"dataframe\">\n",
       "  <thead>\n",
       "    <tr style=\"text-align: right;\">\n",
       "      <th></th>\n",
       "      <th>Id</th>\n",
       "      <th>CustomerId</th>\n",
       "      <th>Timestamp</th>\n",
       "      <th>ProductCategory</th>\n",
       "      <th>Amount</th>\n",
       "    </tr>\n",
       "  </thead>\n",
       "  <tbody>\n",
       "    <tr>\n",
       "      <th>0</th>\n",
       "      <td>1</td>\n",
       "      <td>82</td>\n",
       "      <td>2023-04-02 06:54:14</td>\n",
       "      <td>Clothing</td>\n",
       "      <td>363.874434</td>\n",
       "    </tr>\n",
       "    <tr>\n",
       "      <th>1</th>\n",
       "      <td>2</td>\n",
       "      <td>15</td>\n",
       "      <td>2023-06-04 20:14:43</td>\n",
       "      <td>Furniture</td>\n",
       "      <td>272.511670</td>\n",
       "    </tr>\n",
       "    <tr>\n",
       "      <th>2</th>\n",
       "      <td>3</td>\n",
       "      <td>4</td>\n",
       "      <td>2023-01-08 06:17:41</td>\n",
       "      <td>Books</td>\n",
       "      <td>150.477383</td>\n",
       "    </tr>\n",
       "    <tr>\n",
       "      <th>3</th>\n",
       "      <td>4</td>\n",
       "      <td>95</td>\n",
       "      <td>2023-12-29 13:32:01</td>\n",
       "      <td>Clothing</td>\n",
       "      <td>256.085856</td>\n",
       "    </tr>\n",
       "    <tr>\n",
       "      <th>4</th>\n",
       "      <td>5</td>\n",
       "      <td>36</td>\n",
       "      <td>2023-10-01 21:00:30</td>\n",
       "      <td>Clothing</td>\n",
       "      <td>351.950947</td>\n",
       "    </tr>\n",
       "  </tbody>\n",
       "</table>\n",
       "</div>"
      ],
      "text/plain": [
       "   Id  CustomerId           Timestamp ProductCategory      Amount\n",
       "0   1          82 2023-04-02 06:54:14        Clothing  363.874434\n",
       "1   2          15 2023-06-04 20:14:43       Furniture  272.511670\n",
       "2   3           4 2023-01-08 06:17:41           Books  150.477383\n",
       "3   4          95 2023-12-29 13:32:01        Clothing  256.085856\n",
       "4   5          36 2023-10-01 21:00:30        Clothing  351.950947"
      ]
     },
     "execution_count": 17,
     "metadata": {},
     "output_type": "execute_result"
    }
   ],
   "source": [
    "df.head()"
   ]
  },
  {
   "cell_type": "code",
   "execution_count": null,
   "id": "72e5d101-a2e4-4165-bad3-83f428757e39",
   "metadata": {},
   "outputs": [],
   "source": []
  },
  {
   "cell_type": "code",
   "execution_count": null,
   "id": "89964cb4-fbab-4b6e-8070-4ccd69c330b0",
   "metadata": {},
   "outputs": [],
   "source": []
  },
  {
   "cell_type": "code",
   "execution_count": null,
   "id": "c7045007-4fb0-410a-81f1-f3ea450e47b3",
   "metadata": {},
   "outputs": [],
   "source": []
  }
 ],
 "metadata": {
  "kernelspec": {
   "display_name": "Python 3 (ipykernel)",
   "language": "python",
   "name": "python3"
  },
  "language_info": {
   "codemirror_mode": {
    "name": "ipython",
    "version": 3
   },
   "file_extension": ".py",
   "mimetype": "text/x-python",
   "name": "python",
   "nbconvert_exporter": "python",
   "pygments_lexer": "ipython3",
   "version": "3.12.4"
  }
 },
 "nbformat": 4,
 "nbformat_minor": 5
}
